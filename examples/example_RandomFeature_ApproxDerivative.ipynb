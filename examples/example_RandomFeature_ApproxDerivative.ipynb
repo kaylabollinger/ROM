{
 "cells": [
  {
   "cell_type": "markdown",
   "id": "0f1ef48a",
   "metadata": {},
   "source": [
    "# Example: Random Feature ROM with NREL Wind Data\n",
    "\n",
    "RF = Random Feature "
   ]
  },
  {
   "cell_type": "code",
   "execution_count": 1,
   "id": "e1047b58",
   "metadata": {},
   "outputs": [],
   "source": [
    "import rom\n",
    "import numpy as np"
   ]
  },
  {
   "cell_type": "markdown",
   "id": "b648d572",
   "metadata": {},
   "source": [
    "The NACA 0012 drag data can be found [here](https://github.com/kaylabollinger/ROM/tree/main/data/NACAdrag). To load the data, just replace the data_dir variable with the appropriate path to the dataset."
   ]
  },
  {
   "cell_type": "code",
   "execution_count": 2,
   "id": "f12073eb",
   "metadata": {},
   "outputs": [],
   "source": [
    "data_dir = '../data/NRELwind/NRELwind_RootMxc1'\n",
    "X = np.load(data_dir+'/X.npy')\n",
    "Y = np.load(data_dir+'/Y.npy').reshape(-1)"
   ]
  },
  {
   "cell_type": "markdown",
   "id": "aa3b4905",
   "metadata": {},
   "source": [
    "Designate the number of (randomly chosen) data points to train with."
   ]
  },
  {
   "cell_type": "code",
   "execution_count": 3,
   "id": "39e70d4b",
   "metadata": {},
   "outputs": [],
   "source": [
    "num_train = 10000"
   ]
  },
  {
   "cell_type": "code",
   "execution_count": 4,
   "id": "6b3e854e",
   "metadata": {},
   "outputs": [],
   "source": [
    "ind = list(range(X.shape[0]))\n",
    "np.random.shuffle(ind)\n",
    "ind_train = ind[:num_train]"
   ]
  },
  {
   "cell_type": "code",
   "execution_count": 5,
   "id": "691a2cc7",
   "metadata": {},
   "outputs": [],
   "source": [
    "X_train = X[ind_train,:]\n",
    "Y_train = Y[ind_train]"
   ]
  },
  {
   "cell_type": "markdown",
   "id": "9cb3588c",
   "metadata": {},
   "source": [
    "Since derivative information is not available for this dataset, but we would like to use active subspaces for the dimension reductions step, we need to approximate derivatives. We use local linear gradients with $n=60$ nearest neighbors."
   ]
  },
  {
   "cell_type": "code",
   "execution_count": 6,
   "id": "100b9616",
   "metadata": {},
   "outputs": [
    {
     "ename": "NameError",
     "evalue": "name 'p' is not defined",
     "output_type": "error",
     "traceback": [
      "\u001b[1;31m---------------------------------------------------------------------------\u001b[0m",
      "\u001b[1;31mNameError\u001b[0m                                 Traceback (most recent call last)",
      "\u001b[1;32m~\\AppData\\Local\\Temp/ipykernel_4772/2418274422.py\u001b[0m in \u001b[0;36m<module>\u001b[1;34m\u001b[0m\n\u001b[0;32m      1\u001b[0m \u001b[0mgr\u001b[0m \u001b[1;33m=\u001b[0m \u001b[0mrom\u001b[0m\u001b[1;33m.\u001b[0m\u001b[0mgradients\u001b[0m\u001b[1;33m\u001b[0m\u001b[1;33m\u001b[0m\u001b[0m\n\u001b[1;32m----> 2\u001b[1;33m \u001b[0mDY_train\u001b[0m \u001b[1;33m=\u001b[0m \u001b[0mgr\u001b[0m\u001b[1;33m.\u001b[0m\u001b[0mlocal_linear_gradients\u001b[0m\u001b[1;33m(\u001b[0m\u001b[0mX_train\u001b[0m\u001b[1;33m,\u001b[0m\u001b[0mY_train\u001b[0m\u001b[1;33m,\u001b[0m\u001b[0mn\u001b[0m\u001b[1;33m=\u001b[0m\u001b[1;36m60\u001b[0m\u001b[1;33m)\u001b[0m\u001b[1;33m\u001b[0m\u001b[1;33m\u001b[0m\u001b[0m\n\u001b[0m",
      "\u001b[1;32m~\\anaconda3\\lib\\site-packages\\rom-0.1.dev83+g55f5aa4-py3.9.egg\\rom\\gradients.py\u001b[0m in \u001b[0;36mlocal_linear_gradients\u001b[1;34m(X, Y, n)\u001b[0m\n\u001b[0;32m     34\u001b[0m                 \u001b[0mind\u001b[0m \u001b[1;33m=\u001b[0m \u001b[0mnp\u001b[0m\u001b[1;33m.\u001b[0m\u001b[0margsort\u001b[0m\u001b[1;33m(\u001b[0m\u001b[0mdist\u001b[0m\u001b[1;33m)\u001b[0m \u001b[1;31m# determine nearest neighbors\u001b[0m\u001b[1;33m\u001b[0m\u001b[1;33m\u001b[0m\u001b[0m\n\u001b[0;32m     35\u001b[0m                 \u001b[0mind\u001b[0m \u001b[1;33m=\u001b[0m \u001b[0mind\u001b[0m\u001b[1;33m[\u001b[0m\u001b[0mdist\u001b[0m \u001b[1;33m!=\u001b[0m \u001b[1;36m0\u001b[0m\u001b[1;33m]\u001b[0m \u001b[1;31m# ignore current point\u001b[0m\u001b[1;33m\u001b[0m\u001b[1;33m\u001b[0m\u001b[0m\n\u001b[1;32m---> 36\u001b[1;33m                 \u001b[0mA\u001b[0m \u001b[1;33m=\u001b[0m \u001b[0mnp\u001b[0m\u001b[1;33m.\u001b[0m\u001b[0mconcatenate\u001b[0m\u001b[1;33m(\u001b[0m\u001b[1;33m[\u001b[0m\u001b[0mnp\u001b[0m\u001b[1;33m.\u001b[0m\u001b[0mones\u001b[0m\u001b[1;33m(\u001b[0m\u001b[1;33m(\u001b[0m\u001b[0mp\u001b[0m\u001b[1;33m,\u001b[0m\u001b[1;36m1\u001b[0m\u001b[1;33m)\u001b[0m\u001b[1;33m)\u001b[0m\u001b[1;33m,\u001b[0m\u001b[0mX\u001b[0m\u001b[1;33m[\u001b[0m\u001b[0mind\u001b[0m\u001b[1;33m[\u001b[0m\u001b[1;33m:\u001b[0m\u001b[0mp\u001b[0m\u001b[1;33m]\u001b[0m\u001b[1;33m,\u001b[0m\u001b[1;33m:\u001b[0m\u001b[1;33m]\u001b[0m\u001b[1;33m]\u001b[0m\u001b[1;33m,\u001b[0m\u001b[0maxis\u001b[0m\u001b[1;33m=\u001b[0m\u001b[1;36m1\u001b[0m\u001b[1;33m)\u001b[0m \u001b[1;31m# ones for affine approximation\u001b[0m\u001b[1;33m\u001b[0m\u001b[1;33m\u001b[0m\u001b[0m\n\u001b[0m\u001b[0;32m     37\u001b[0m                 \u001b[0mb\u001b[0m \u001b[1;33m=\u001b[0m \u001b[0mY\u001b[0m\u001b[1;33m[\u001b[0m\u001b[0mind\u001b[0m\u001b[1;33m[\u001b[0m\u001b[1;33m:\u001b[0m\u001b[0mp\u001b[0m\u001b[1;33m]\u001b[0m\u001b[1;33m]\u001b[0m\u001b[1;33m\u001b[0m\u001b[1;33m\u001b[0m\u001b[0m\n\u001b[0;32m     38\u001b[0m                 \u001b[0msol\u001b[0m \u001b[1;33m=\u001b[0m \u001b[0mnp\u001b[0m\u001b[1;33m.\u001b[0m\u001b[0mlinalg\u001b[0m\u001b[1;33m.\u001b[0m\u001b[0mlstsq\u001b[0m\u001b[1;33m(\u001b[0m\u001b[0mA\u001b[0m\u001b[1;33m,\u001b[0m\u001b[0mb\u001b[0m\u001b[1;33m)\u001b[0m\u001b[1;33m[\u001b[0m\u001b[1;36m0\u001b[0m\u001b[1;33m]\u001b[0m\u001b[1;33m\u001b[0m\u001b[1;33m\u001b[0m\u001b[0m\n",
      "\u001b[1;31mNameError\u001b[0m: name 'p' is not defined"
     ]
    }
   ],
   "source": [
    "gr = rom.gradients\n",
    "DY_train = gr.local_linear_gradients(X_train,Y_train,n=60)"
   ]
  },
  {
   "cell_type": "markdown",
   "id": "40459cce",
   "metadata": {},
   "source": [
    "To train the RF model, we first learn the $k$ dimensional linear subspace $U$ via active subspaces--see [Bollinger (2022)](???) (link will be available once published) for more detail. If given datapoint is labeled $x$, then reduced data is given by $U^T x$, labeled \"UTX\" in this code."
   ]
  },
  {
   "cell_type": "code",
   "execution_count": null,
   "id": "4bc5deda",
   "metadata": {},
   "outputs": [],
   "source": [
    "k = 1\n",
    "\n",
    "ss = rom.subspaces\n",
    "U = ss.AS(DY_train,k)\n",
    "\n",
    "UTX = np.matmul(X,U)\n",
    "UTX_train = np.matmul(X_train,U)"
   ]
  },
  {
   "cell_type": "markdown",
   "id": "6401c1a1",
   "metadata": {},
   "source": [
    "Then, we train the RF surrogate model. For this example, our hyperparameter choice will be:\n",
    "- N = number of random features = num_train/2\n",
    "- alpha = regularizing parameters = 1e-3\n",
    "- s = sparsity order on random weights = k"
   ]
  },
  {
   "cell_type": "code",
   "execution_count": null,
   "id": "8dd9adb9",
   "metadata": {},
   "outputs": [],
   "source": [
    "model = rom.surr_model.RF()\n",
    "model.train([UTX_train, Y_train],N=int(np.ceil(num_train/2)),alpha=1e-3,s=k)"
   ]
  },
  {
   "cell_type": "markdown",
   "id": "d400de21",
   "metadata": {},
   "source": [
    "Using the trained model, we predict output over the entire dataset and report error."
   ]
  },
  {
   "cell_type": "code",
   "execution_count": null,
   "id": "fead64a8",
   "metadata": {},
   "outputs": [],
   "source": [
    "Y_calc = model.predict(UTX)\n",
    "\n",
    "print(f'relative error = {rom.utils.rel_error(Y,Y_calc)}')"
   ]
  }
 ],
 "metadata": {
  "kernelspec": {
   "display_name": "Python 3 (ipykernel)",
   "language": "python",
   "name": "python3"
  },
  "language_info": {
   "codemirror_mode": {
    "name": "ipython",
    "version": 3
   },
   "file_extension": ".py",
   "mimetype": "text/x-python",
   "name": "python",
   "nbconvert_exporter": "python",
   "pygments_lexer": "ipython3",
   "version": "3.9.7"
  }
 },
 "nbformat": 4,
 "nbformat_minor": 5
}
