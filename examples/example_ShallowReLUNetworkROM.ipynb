{
 "cells": [
  {
   "cell_type": "markdown",
   "id": "0f1ef48a",
   "metadata": {},
   "source": [
    "# Example: Shallow ReLU Network ROM with ONERA M6 Data\n",
    "\n",
    "NN = Neural Network"
   ]
  },
  {
   "cell_type": "code",
   "execution_count": 1,
   "id": "e1047b58",
   "metadata": {},
   "outputs": [],
   "source": [
    "import rom\n",
    "import numpy as np"
   ]
  },
  {
   "cell_type": "markdown",
   "id": "5616957f",
   "metadata": {},
   "source": [
    "The ONERA M6 drag data can be found [here](https://github.com/kaylabollinger/ROM/tree/main/data/ONERAdrag). To load the data, just replace the data_dir variable with the appropriate path to the dataset."
   ]
  },
  {
   "cell_type": "code",
   "execution_count": 2,
   "id": "f12073eb",
   "metadata": {},
   "outputs": [],
   "source": [
    "data_dir = '../data/ONERAdrag'\n",
    "X = np.load(data_dir+'/X.npy')\n",
    "Y = np.load(data_dir+'/Y.npy')\n",
    "DY = np.load(data_dir+'/DY.npy')"
   ]
  },
  {
   "cell_type": "markdown",
   "id": "c6d54c60",
   "metadata": {},
   "source": [
    "Designate the number of (randomly chosen) data points to train with."
   ]
  },
  {
   "cell_type": "code",
   "execution_count": 3,
   "id": "39e70d4b",
   "metadata": {},
   "outputs": [],
   "source": [
    "num_train = 100"
   ]
  },
  {
   "cell_type": "code",
   "execution_count": 4,
   "id": "c032177d",
   "metadata": {},
   "outputs": [],
   "source": [
    "ind = list(range(X.shape[0]))\n",
    "np.random.shuffle(ind)\n",
    "ind_train = ind[:num_train]"
   ]
  },
  {
   "cell_type": "code",
   "execution_count": 5,
   "id": "3d65e161",
   "metadata": {},
   "outputs": [],
   "source": [
    "X_train = X[ind_train,:]\n",
    "Y_train = Y[ind_train]\n",
    "DY_train = DY[ind_train,:]"
   ]
  },
  {
   "cell_type": "markdown",
   "id": "d0f4eb3b",
   "metadata": {},
   "source": [
    "To train the NN model, we first learn the $k$ dimensional linear subspace $U$ via active subspaces--see [Bollinger (2022)](???) (link will be available once published). If given datapoint is labeled $x$, then reduced data is given by $U^T x$, labeled \"UTX\" in this code."
   ]
  },
  {
   "cell_type": "code",
   "execution_count": 6,
   "id": "4bc5deda",
   "metadata": {},
   "outputs": [],
   "source": [
    "k = 3\n",
    "\n",
    "ss = rom.subspaces\n",
    "U = ss.AS(DY_train,k)"
   ]
  },
  {
   "cell_type": "markdown",
   "id": "e9bad21f",
   "metadata": {},
   "source": [
    "Then, we train the NN surrogate model. For this example, our hyperparameter choice will be:\n",
    "- h = hidden dimension size = 256\n",
    "- alpha = regularizing hyperparameter = 1e-7\n",
    "- num_outer = number of outer iterations for alternating minimization scheme = 3\n",
    "- num_epoch = number of inner iterations for NN training = 200"
   ]
  },
  {
   "cell_type": "code",
   "execution_count": 7,
   "id": "ca81eb07",
   "metadata": {},
   "outputs": [],
   "source": [
    "h = 256"
   ]
  },
  {
   "cell_type": "code",
   "execution_count": 8,
   "id": "8dd9adb9",
   "metadata": {},
   "outputs": [
    {
     "name": "stdout",
     "output_type": "stream",
     "text": [
      "Training parameters:\n",
      "\tNumber of outer iterations = 3\n",
      "\tNumber of inner iterations for NN = 200\n",
      "\tBatch size for training NN = 16\n",
      "\n",
      "Outer iteration: 1\n",
      "\n",
      "Epoch 0/200 | Train Rel Loss 4.033078 | Validation Rel Loss: 4.11792803\n",
      "Epoch 100/200 | Train Rel Loss 0.070650 | Validation Rel Loss: 0.09425871\n",
      "Epoch 200/200 | Train Rel Loss 0.078292 | Validation Rel Loss: 0.09263412\n",
      "\n",
      "Outer iteration: 2\n",
      "\n",
      "Epoch 0/200 | Train Rel Loss 0.019185 | Validation Rel Loss: 0.09483729\n",
      "Epoch 100/200 | Train Rel Loss 0.036024 | Validation Rel Loss: 0.10201846\n",
      "Epoch 200/200 | Train Rel Loss 0.017165 | Validation Rel Loss: 0.09367252\n",
      "\n",
      "Outer iteration: 3\n",
      "\n",
      "Epoch 0/200 | Train Rel Loss 0.012191 | Validation Rel Loss: 0.09158520\n",
      "Epoch 100/200 | Train Rel Loss 0.011806 | Validation Rel Loss: 0.08979782\n",
      "Epoch 200/200 | Train Rel Loss 0.014197 | Validation Rel Loss: 0.09096321\n"
     ]
    }
   ],
   "source": [
    "model = rom.surr_model.NN_alt(U=U,dim_layers=[k,h,1],alpha=1e-7)\n",
    "model.train([X_train, Y_train],dataset_val=[X,Y],num_outer=3,num_epoch=200)"
   ]
  },
  {
   "cell_type": "markdown",
   "id": "b4285795",
   "metadata": {},
   "source": [
    "Using the trained model, we predict output over the entire dataset and report error."
   ]
  },
  {
   "cell_type": "code",
   "execution_count": 9,
   "id": "fead64a8",
   "metadata": {},
   "outputs": [
    {
     "name": "stdout",
     "output_type": "stream",
     "text": [
      "relative error = 0.09096320760276319\n"
     ]
    }
   ],
   "source": [
    "Y_calc = model.predict(X)\n",
    "\n",
    "print(f'relative error = {rom.utils.rel_error(Y,Y_calc)}')"
   ]
  }
 ],
 "metadata": {
  "kernelspec": {
   "display_name": "Python 3 (ipykernel)",
   "language": "python",
   "name": "python3"
  },
  "language_info": {
   "codemirror_mode": {
    "name": "ipython",
    "version": 3
   },
   "file_extension": ".py",
   "mimetype": "text/x-python",
   "name": "python",
   "nbconvert_exporter": "python",
   "pygments_lexer": "ipython3",
   "version": "3.9.7"
  }
 },
 "nbformat": 4,
 "nbformat_minor": 5
}
