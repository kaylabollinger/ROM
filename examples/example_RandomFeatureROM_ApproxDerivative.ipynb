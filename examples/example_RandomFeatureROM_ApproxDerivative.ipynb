{
 "cells": [
  {
   "cell_type": "markdown",
   "id": "0f1ef48a",
   "metadata": {},
   "source": [
    "# Example: Random Feature ROM with NREL Wind Data\n",
    "\n",
    "RF = Random Feature "
   ]
  },
  {
   "cell_type": "code",
   "execution_count": 1,
   "id": "e1047b58",
   "metadata": {},
   "outputs": [],
   "source": [
    "import rom\n",
    "import numpy as np"
   ]
  },
  {
   "cell_type": "markdown",
   "id": "b648d572",
   "metadata": {},
   "source": [
    "The NACA 0012 drag data can be found [here](https://github.com/kaylabollinger/ROM/tree/main/data/NACAdrag). To load the data, just replace the data_dir variable with the appropriate path to the dataset."
   ]
  },
  {
   "cell_type": "code",
   "execution_count": 2,
   "id": "f12073eb",
   "metadata": {},
   "outputs": [],
   "source": [
    "data_dir = '../data/NRELwind/NRELwind_RootMxc1'\n",
    "X = np.load(data_dir+'/X.npy')\n",
    "Y = np.load(data_dir+'/Y.npy').reshape(-1)"
   ]
  },
  {
   "cell_type": "markdown",
   "id": "aa3b4905",
   "metadata": {},
   "source": [
    "Designate the number of (randomly chosen) data points to train with."
   ]
  },
  {
   "cell_type": "code",
   "execution_count": 3,
   "id": "39e70d4b",
   "metadata": {},
   "outputs": [],
   "source": [
    "num_train = 10000"
   ]
  },
  {
   "cell_type": "code",
   "execution_count": 4,
   "id": "6b3e854e",
   "metadata": {},
   "outputs": [],
   "source": [
    "ind = list(range(X.shape[0]))\n",
    "np.random.shuffle(ind)\n",
    "ind_train = ind[:num_train]"
   ]
  },
  {
   "cell_type": "code",
   "execution_count": 5,
   "id": "691a2cc7",
   "metadata": {},
   "outputs": [],
   "source": [
    "X_train = X[ind_train,:]\n",
    "Y_train = Y[ind_train]"
   ]
  },
  {
   "cell_type": "markdown",
   "id": "9cb3588c",
   "metadata": {},
   "source": [
    "Since derivative information is not available for this dataset, but we would like to use active subspaces for the dimension reductions step, we need to approximate derivatives. We use local linear gradients with $n=60$ nearest neighbors."
   ]
  },
  {
   "cell_type": "code",
   "execution_count": 6,
   "id": "100b9616",
   "metadata": {},
   "outputs": [
    {
     "name": "stderr",
     "output_type": "stream",
     "text": [
      "C:\\Users\\knb_w\\anaconda3\\lib\\site-packages\\rom-0.1.dev93+g6280f1f-py3.9.egg\\rom\\gradients.py:38: FutureWarning: `rcond` parameter will change to the default of machine precision times ``max(M, N)`` where M and N are the input matrix dimensions.\n",
      "To use the future default and silence this warning we advise to pass `rcond=None`, to keep using the old, explicitly pass `rcond=-1`.\n"
     ]
    }
   ],
   "source": [
    "gr = rom.gradients\n",
    "DY_train = gr.local_linear_gradients(X_train,Y_train,n=60)"
   ]
  },
  {
   "cell_type": "markdown",
   "id": "40459cce",
   "metadata": {},
   "source": [
    "To train the RF model, we first learn the $k$ dimensional linear subspace $U$ via active subspaces--see [Bollinger (2022)](???) (link will be available once published) for more detail. If given datapoint is labeled $x$, then reduced data is given by $U^T x$, labeled \"UTX\" in this code."
   ]
  },
  {
   "cell_type": "code",
   "execution_count": 7,
   "id": "4bc5deda",
   "metadata": {},
   "outputs": [],
   "source": [
    "k = 1\n",
    "\n",
    "ss = rom.subspaces\n",
    "U = ss.AS(DY_train,k)\n",
    "\n",
    "UTX = np.matmul(X,U)\n",
    "UTX_train = np.matmul(X_train,U)"
   ]
  },
  {
   "cell_type": "markdown",
   "id": "6401c1a1",
   "metadata": {},
   "source": [
    "Then, we train the RF surrogate model. For this example, our hyperparameter choice will be:\n",
    "- N = number of random features = num_train/2\n",
    "- alpha = regularizing parameters = 1e-3\n",
    "- s = sparsity order on random weights = k"
   ]
  },
  {
   "cell_type": "code",
   "execution_count": 8,
   "id": "8dd9adb9",
   "metadata": {},
   "outputs": [],
   "source": [
    "model = rom.surr_model.RF()\n",
    "model.train([UTX_train, Y_train],N=int(np.ceil(num_train/2)),alpha=1e-3,s=k)"
   ]
  },
  {
   "cell_type": "markdown",
   "id": "d400de21",
   "metadata": {},
   "source": [
    "Using the trained model, we predict output over the entire dataset and report error."
   ]
  },
  {
   "cell_type": "code",
   "execution_count": 9,
   "id": "fead64a8",
   "metadata": {},
   "outputs": [
    {
     "name": "stdout",
     "output_type": "stream",
     "text": [
      "relative error = 0.005157119148963896\n"
     ]
    }
   ],
   "source": [
    "Y_calc = model.predict(UTX)\n",
    "\n",
    "print(f'relative error = {rom.utils.rel_error(Y,Y_calc)}')"
   ]
  }
 ],
 "metadata": {
  "kernelspec": {
   "display_name": "Python 3 (ipykernel)",
   "language": "python",
   "name": "python3"
  },
  "language_info": {
   "codemirror_mode": {
    "name": "ipython",
    "version": 3
   },
   "file_extension": ".py",
   "mimetype": "text/x-python",
   "name": "python",
   "nbconvert_exporter": "python",
   "pygments_lexer": "ipython3",
   "version": "3.9.7"
  }
 },
 "nbformat": 4,
 "nbformat_minor": 5
}
